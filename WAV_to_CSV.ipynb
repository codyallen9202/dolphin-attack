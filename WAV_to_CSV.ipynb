{
 "cells": [
  {
   "cell_type": "code",
   "execution_count": 9,
   "metadata": {},
   "outputs": [],
   "source": [
    "# Imports\n",
    "import wave\n",
    "import numpy as np\n",
    "import csv"
   ]
  },
  {
   "cell_type": "code",
   "execution_count": 10,
   "metadata": {},
   "outputs": [],
   "source": [
    "wav_file = \"modulated_audio.wav\"\n",
    "csv_file = \"audio.csv\""
   ]
  },
  {
   "cell_type": "code",
   "execution_count": 11,
   "metadata": {},
   "outputs": [
    {
     "name": "stdout",
     "output_type": "stream",
     "text": [
      "Channels: 1, Sample Width: 2 bytes, Frame Rate: 48000 Hz, Total Frames: 563328\n"
     ]
    }
   ],
   "source": [
    "# Read Wav File\n",
    "with wave.open(wav_file, 'r') as wav:\n",
    "    # Extract parameters\n",
    "    n_channels = wav.getnchannels()\n",
    "    sample_width = wav.getsampwidth()\n",
    "    framerate = wav.getframerate()\n",
    "    n_frames = wav.getnframes()\n",
    "\n",
    "    print(f\"Channels: {n_channels}, Sample Width: {sample_width} bytes, Frame Rate: {framerate} Hz, Total Frames: {n_frames}\")\n",
    "\n",
    "    # Read frames\n",
    "    frames = wav.readframes(n_frames)\n",
    "    \n",
    "    # Convert frames to numpy array\n",
    "    dtype = np.int16 if sample_width == 2 else np.int8\n",
    "    audio_data = np.frombuffer(frames, dtype=dtype)"
   ]
  },
  {
   "cell_type": "code",
   "execution_count": 12,
   "metadata": {},
   "outputs": [
    {
     "name": "stdout",
     "output_type": "stream",
     "text": [
      "Converted WAV to CSV: audio.csv\n"
     ]
    }
   ],
   "source": [
    "# Write to CSV\n",
    "with open(csv_file, 'w', newline='') as f:\n",
    "    writer = csv.writer(f)\n",
    "    writer.writerow([\"Sample Value\"])\n",
    "    writer.writerows([[sample] for sample in audio_data.flatten()])\n",
    "\n",
    "print(f\"Converted WAV to CSV: {csv_file}\")"
   ]
  }
 ],
 "metadata": {
  "kernelspec": {
   "display_name": "Python 3",
   "language": "python",
   "name": "python3"
  },
  "language_info": {
   "codemirror_mode": {
    "name": "ipython",
    "version": 3
   },
   "file_extension": ".py",
   "mimetype": "text/x-python",
   "name": "python",
   "nbconvert_exporter": "python",
   "pygments_lexer": "ipython3",
   "version": "3.11.8"
  }
 },
 "nbformat": 4,
 "nbformat_minor": 2
}
