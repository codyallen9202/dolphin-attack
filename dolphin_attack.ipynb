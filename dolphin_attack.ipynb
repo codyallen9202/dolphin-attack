{
 "cells": [
  {
   "cell_type": "code",
   "execution_count": 108,
   "metadata": {},
   "outputs": [],
   "source": [
    "# Audio File Directory Locations and Names\n",
    "input_file_non_wav = \"./audio/two.m4a\"\n",
    "non_wav_format = \"m4a\"\n",
    "input_file = \"./audio/two.wav\"\n",
    "output_file = \"./audio/two_20kHz.wav\""
   ]
  },
  {
   "cell_type": "code",
   "execution_count": 109,
   "metadata": {},
   "outputs": [
    {
     "data": {
      "text/plain": [
       "<_io.BufferedRandom name='./audio/two.wav'>"
      ]
     },
     "execution_count": 109,
     "metadata": {},
     "output_type": "execute_result"
    }
   ],
   "source": [
    "# If needed to convert into WAV\n",
    "from pydub import AudioSegment\n",
    "audio = AudioSegment.from_file(input_file_non_wav, format=non_wav_format)\n",
    "audio.export(input_file, format=\"wav\")"
   ]
  },
  {
   "cell_type": "code",
   "execution_count": 110,
   "metadata": {},
   "outputs": [],
   "source": [
    "# Imports\n",
    "import numpy as np\n",
    "from scipy.io.wavfile import read, write\n",
    "from scipy.signal import butter, filtfilt"
   ]
  },
  {
   "cell_type": "code",
   "execution_count": 111,
   "metadata": {},
   "outputs": [],
   "source": [
    "# Load Audio FIle\n",
    "fs, audio_signal = read(input_file)"
   ]
  },
  {
   "cell_type": "code",
   "execution_count": 112,
   "metadata": {},
   "outputs": [],
   "source": [
    "# Make Sure Audio Is Mono\n",
    "if len(audio_signal.shape) > 1:\n",
    "    audio_signal = audio_signal[:, 0]"
   ]
  },
  {
   "cell_type": "code",
   "execution_count": 113,
   "metadata": {},
   "outputs": [],
   "source": [
    "# Normalize Audio\n",
    "audio_signal = audio_signal / np.max(np.abs(audio_signal))"
   ]
  },
  {
   "cell_type": "code",
   "execution_count": 114,
   "metadata": {},
   "outputs": [],
   "source": [
    "# Generate High-Frequency Carrier\n",
    "duration = len(audio_signal) / fs\n",
    "t = np.linspace(0, duration, len(audio_signal), endpoint=False)\n",
    "carrier_frequency = 20000\n",
    "carrier_wave = np.sin(2 * np.pi * carrier_frequency * t)"
   ]
  },
  {
   "cell_type": "code",
   "execution_count": 115,
   "metadata": {},
   "outputs": [],
   "source": [
    "# Pass Filter (Dual Purpose: LPF / HPF)\n",
    "def pass_filter(type, signal, cutoff, fs, order=8):\n",
    "    nyquist = 0.5 * fs\n",
    "    normal_cutoff = cutoff / nyquist\n",
    "    b, a = butter(order, normal_cutoff, btype=type, analog=False)\n",
    "    return filtfilt(b, a, signal)"
   ]
  },
  {
   "cell_type": "code",
   "execution_count": 116,
   "metadata": {},
   "outputs": [],
   "source": [
    "# Apply LPF to limit audio signal to 3 kHz (Acceptable Audible Hearing Range)\n",
    "audio_signal = pass_filter('low', audio_signal, cutoff=3000, fs=fs)\n",
    "audio_signal = audio_signal / np.max(np.abs(audio_signal))"
   ]
  },
  {
   "cell_type": "code",
   "execution_count": 117,
   "metadata": {},
   "outputs": [],
   "source": [
    "# Modulate\n",
    "modulated_signal = (1 + audio_signal) * carrier_wave\n",
    "\n",
    "# Apply HPF to clear audio still roughly remaining in hearing range (Beneath 17000)\n",
    "modulated_signal = pass_filter('high', modulated_signal, cutoff=17000, fs=fs)\n",
    "\n",
    "# Normalize Audio\n",
    "modulated_signal = modulated_signal / np.max(np.abs(modulated_signal))"
   ]
  },
  {
   "cell_type": "code",
   "execution_count": 118,
   "metadata": {},
   "outputs": [],
   "source": [
    "# Write Output File\n",
    "write(output_file, fs, (modulated_signal * 32767).astype(np.int16))"
   ]
  }
 ],
 "metadata": {
  "kernelspec": {
   "display_name": "Python 3",
   "language": "python",
   "name": "python3"
  },
  "language_info": {
   "codemirror_mode": {
    "name": "ipython",
    "version": 3
   },
   "file_extension": ".py",
   "mimetype": "text/x-python",
   "name": "python",
   "nbconvert_exporter": "python",
   "pygments_lexer": "ipython3",
   "version": "3.11.8"
  }
 },
 "nbformat": 4,
 "nbformat_minor": 2
}
