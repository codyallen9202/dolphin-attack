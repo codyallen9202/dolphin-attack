{
 "cells": [
  {
   "cell_type": "code",
   "execution_count": 10,
   "metadata": {},
   "outputs": [],
   "source": [
    "# # If needed to convert MP3 into WAV\n",
    "# from pydub import AudioSegment\n",
    "# audio = AudioSegment.from_mp3(\"hey_siri.mp3\")\n",
    "# audio.export(\"hey_siri.wav\", format=\"wav\")"
   ]
  },
  {
   "cell_type": "code",
   "execution_count": 11,
   "metadata": {},
   "outputs": [],
   "source": [
    "# Imports\n",
    "import numpy as np\n",
    "from scipy.io.wavfile import read, write\n",
    "from scipy.signal import butter, filtfilt\n",
    "import csv"
   ]
  },
  {
   "cell_type": "code",
   "execution_count": 12,
   "metadata": {},
   "outputs": [],
   "source": [
    "# Load Audio FIle\n",
    "fs, audio_signal = read(\"hey_siri.wav\")"
   ]
  },
  {
   "cell_type": "code",
   "execution_count": 13,
   "metadata": {},
   "outputs": [],
   "source": [
    "# Make Sure Audio Is Mono\n",
    "if len(audio_signal.shape) > 1:\n",
    "    audio_signal = audio_signal[:, 0]"
   ]
  },
  {
   "cell_type": "code",
   "execution_count": 14,
   "metadata": {},
   "outputs": [],
   "source": [
    "# Normalize Audio\n",
    "audio_signal = audio_signal / np.max(np.abs(audio_signal))"
   ]
  },
  {
   "cell_type": "code",
   "execution_count": 15,
   "metadata": {},
   "outputs": [],
   "source": [
    "# Generate High-Frequency Carrier\n",
    "duration = len(audio_signal) / fs\n",
    "t = np.linspace(0, duration, len(audio_signal), endpoint=False)\n",
    "carrier_frequency = 20000\n",
    "carrier_wave = np.sin(2 * np.pi * carrier_frequency * t)"
   ]
  },
  {
   "cell_type": "code",
   "execution_count": 16,
   "metadata": {},
   "outputs": [],
   "source": [
    "# High Pass Filter\n",
    "def high_pass_filter(signal, cutoff, fs, order=5):\n",
    "    nyquist = 0.5 * fs\n",
    "    normal_cutoff = cutoff / nyquist\n",
    "    b, a = butter(order, normal_cutoff, btype='high', analog=False)\n",
    "    return filtfilt(b, a, signal)"
   ]
  },
  {
   "cell_type": "code",
   "execution_count": 17,
   "metadata": {},
   "outputs": [],
   "source": [
    "# Modulate\n",
    "modulated_signal = audio_signal * carrier_wave\n",
    "modulated_signal = high_pass_filter(modulated_signal, cutoff=20000, fs=fs)\n",
    "modulated_signal = modulated_signal / np.max(np.abs(modulated_signal)) * 0.9 # Boost Amplitude"
   ]
  },
  {
   "cell_type": "code",
   "execution_count": 18,
   "metadata": {},
   "outputs": [],
   "source": [
    "# Write Output File\n",
    "write(\"modulated_audio.wav\", fs, (modulated_signal * 32767).astype(np.int16))"
   ]
  }
 ],
 "metadata": {
  "kernelspec": {
   "display_name": "Python 3",
   "language": "python",
   "name": "python3"
  },
  "language_info": {
   "codemirror_mode": {
    "name": "ipython",
    "version": 3
   },
   "file_extension": ".py",
   "mimetype": "text/x-python",
   "name": "python",
   "nbconvert_exporter": "python",
   "pygments_lexer": "ipython3",
   "version": "3.11.8"
  }
 },
 "nbformat": 4,
 "nbformat_minor": 2
}
