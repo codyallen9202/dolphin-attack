{
 "cells": [
  {
   "cell_type": "code",
   "execution_count": 19,
   "metadata": {},
   "outputs": [],
   "source": [
    "import numpy as np\n",
    "from scipy.io import wavfile\n",
    "from scipy.signal import hilbert\n",
    "\n",
    "# Load the WAV file\n",
    "rate, data = wavfile.read(\"hello_world.wav\")\n",
    "\n",
    "# Convert to mono if stereo\n",
    "if len(data.shape) > 1:\n",
    "    data = data.mean(axis=1)\n",
    "\n",
    "# Normalize data\n",
    "data = data / np.max(np.abs(data))\n",
    "\n",
    "# Apply Hilbert\n",
    "analytic_signal = hilbert(data)\n",
    "\n",
    "# Define the frequency shift (carrier frequency)\n",
    "freq_shift = 20000 # 20 kHz\n",
    "\n",
    "# Generate a time vector and carrier wave for modulation\n",
    "t = np.arange(len(data)) / rate\n",
    "carrier = np.exp(2j * np.pi * freq_shift * t)\n",
    "\n",
    "# Perform single-sideband modulation\n",
    "ssb_signal = np.real(analytic_signal * carrier)\n",
    "\n",
    "# Scale back to original range and convert to int16\n",
    "ssb_signal = np.int16(ssb_signal * 32767)\n",
    "\n",
    "# Save the frequency-shifted audio\n",
    "wavfile.write(\"shifted_hello_world.wav\", rate, ssb_signal)"
   ]
  }
 ],
 "metadata": {
  "kernelspec": {
   "display_name": "Python 3",
   "language": "python",
   "name": "python3"
  },
  "language_info": {
   "codemirror_mode": {
    "name": "ipython",
    "version": 3
   },
   "file_extension": ".py",
   "mimetype": "text/x-python",
   "name": "python",
   "nbconvert_exporter": "python",
   "pygments_lexer": "ipython3",
   "version": "3.11.8"
  }
 },
 "nbformat": 4,
 "nbformat_minor": 2
}
